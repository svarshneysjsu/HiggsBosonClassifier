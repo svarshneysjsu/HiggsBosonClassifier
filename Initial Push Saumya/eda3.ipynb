{
 "cells": [
  {
   "cell_type": "markdown",
   "metadata": {},
   "source": [
    "# EDA for Higgs Boson Dataset"
   ]
  },
  {
   "cell_type": "markdown",
   "metadata": {},
   "source": [
    "## Import Libraries"
   ]
  },
  {
   "cell_type": "code",
   "execution_count": 1,
   "metadata": {},
   "outputs": [],
   "source": [
    "from pyspark import SparkContext\n",
    "from pyspark.sql import SparkSession\n",
    "\n",
    "import seaborn as sns\n",
    "import matplotlib.pyplot as plt"
   ]
  },
  {
   "cell_type": "markdown",
   "metadata": {},
   "source": [
    "## Create SparkContext and SparkSession"
   ]
  },
  {
   "cell_type": "code",
   "execution_count": 2,
   "metadata": {},
   "outputs": [
    {
     "name": "stderr",
     "output_type": "stream",
     "text": [
      "Setting default log level to \"WARN\".\n",
      "To adjust logging level use sc.setLogLevel(newLevel). For SparkR, use setLogLevel(newLevel).\n",
      "24/04/30 16:43:02 WARN NativeCodeLoader: Unable to load native-hadoop library for your platform... using builtin-java classes where applicable\n",
      "24/04/30 16:43:02 WARN Utils: Service 'SparkUI' could not bind on port 4040. Attempting port 4041.\n",
      "24/04/30 16:43:02 WARN Utils: Service 'SparkUI' could not bind on port 4041. Attempting port 4042.\n"
     ]
    }
   ],
   "source": [
    "sc = SparkContext.getOrCreate()\n",
    "spark = SparkSession(sc)"
   ]
  },
  {
   "cell_type": "markdown",
   "metadata": {},
   "source": [
    "## Read CSV, transform and load to Dataframe"
   ]
  },
  {
   "cell_type": "code",
   "execution_count": 3,
   "metadata": {},
   "outputs": [],
   "source": [
    "rdd = sc.textFile(\"HIGGS.csv\")\n",
    "rdd = rdd.map(\n",
    "    lambda row: [\n",
    "        int(float(v)) if i == 0 else float(v) for i, v in enumerate(row.split(\",\"))\n",
    "    ]\n",
    ")\n",
    "df = rdd.toDF(\n",
    "    schema=[\n",
    "        \"signal\",\n",
    "        \"lepton pT\",\n",
    "        \"lepton eta\",\n",
    "        \"lepton phi\",\n",
    "        \"missing energy magnitude\",\n",
    "        \"missing energy phi\",\n",
    "        \"jet 1 pt\",\n",
    "        \"jet 1 eta\",\n",
    "        \"jet 1 phi\",\n",
    "        \"jet 1 b-tag\",\n",
    "        \"jet 2 pt\",\n",
    "        \"jet 2 eta\",\n",
    "        \"jet 2 phi\",\n",
    "        \"jet 2 b-tag\",\n",
    "        \"jet 3 pt\",\n",
    "        \"jet 3 eta\",\n",
    "        \"jet 3 phi\",\n",
    "        \"jet 3 b-tag\",\n",
    "        \"jet 4 pt\",\n",
    "        \"jet 4 eta\",\n",
    "        \"jet 4 phi\",\n",
    "        \"jet 4 b-tag\",\n",
    "        \"m_jj\",\n",
    "        \"m_jjj\",\n",
    "        \"m_lv\",\n",
    "        \"m_jlv\",\n",
    "        \"m_bb\",\n",
    "        \"m_wbb\",\n",
    "        \"m_wwbb\",\n",
    "    ]\n",
    ")"
   ]
  },
  {
   "cell_type": "markdown",
   "metadata": {},
   "source": [
    "## Feature Analysis"
   ]
  },
  {
   "cell_type": "code",
   "execution_count": 4,
   "metadata": {},
   "outputs": [
    {
     "name": "stderr",
     "output_type": "stream",
     "text": [
      "24/04/30 16:43:04 WARN SparkStringUtils: Truncated the string representation of a plan since it was too large. This behavior can be adjusted by setting 'spark.sql.debug.maxToStringFields'.\n",
      "24/04/30 16:43:15 WARN GarbageCollectionMetrics: To enable non-built-in garbage collector(s) List(G1 Concurrent GC), users should configure it(them) to spark.eventLog.gcMetrics.youngGenerationGarbageCollectors or spark.eventLog.gcMetrics.oldGenerationGarbageCollectors\n",
      "[Stage 1:=====================================================> (233 + 7) / 240]\r"
     ]
    },
    {
     "name": "stdout",
     "output_type": "stream",
     "text": [
      "Total instances - 11000000\n"
     ]
    },
    {
     "name": "stderr",
     "output_type": "stream",
     "text": [
      "                                                                                \r"
     ]
    }
   ],
   "source": [
    "total_rows = df.count()\n",
    "print(f\"Total instances - {total_rows}\")"
   ]
  },
  {
   "cell_type": "code",
   "execution_count": 5,
   "metadata": {},
   "outputs": [
    {
     "name": "stderr",
     "output_type": "stream",
     "text": [
      "[Stage 4:=====================================================> (233 + 7) / 240]\r"
     ]
    },
    {
     "name": "stdout",
     "output_type": "stream",
     "text": [
      "Count of instances with (lepton pT > 4.0) - 17333\n",
      "Percentage of instances with (lepton pT > 4.0) - 0.1576%\n"
     ]
    },
    {
     "name": "stderr",
     "output_type": "stream",
     "text": [
      "                                                                                \r"
     ]
    }
   ],
   "source": [
    "col_name = \"lepton pT\"\n",
    "limit = 4.0\n",
    "above = True\n",
    "count = 0\n",
    "if above:\n",
    "    count += df.select(col_name).filter(df[col_name] > limit).count()\n",
    "else:\n",
    "    count += df.select(col_name).filter(df[col_name] < limit).count()\n",
    "print(\n",
    "    f\"Count of instances with ({col_name} {'>' if above else '<'} {limit}) - {count}\"\n",
    ")\n",
    "print(\n",
    "    f\"Percentage of instances with ({col_name} {'>' if above else '<'} {limit}) - {(count * 100.0/ total_rows):.4f}%\"\n",
    ")\n",
    "# clip values above 4.0 to 4.0"
   ]
  },
  {
   "cell_type": "code",
   "execution_count": 6,
   "metadata": {},
   "outputs": [
    {
     "name": "stderr",
     "output_type": "stream",
     "text": [
      "[Stage 7:=====================================================> (234 + 6) / 240]\r"
     ]
    },
    {
     "name": "stdout",
     "output_type": "stream",
     "text": [
      "Count of instances with (missing energy magnitude > 4.0) - 20013\n",
      "Percentage of instances with (missing energy magnitude > 4.0) - 0.1819%\n"
     ]
    },
    {
     "name": "stderr",
     "output_type": "stream",
     "text": [
      "                                                                                \r"
     ]
    }
   ],
   "source": [
    "col_name = \"missing energy magnitude\"\n",
    "limit = 4.0\n",
    "above = True\n",
    "count = 0\n",
    "if above:\n",
    "    count += df.select(col_name).filter(df[col_name] > limit).count()\n",
    "else:\n",
    "    count += df.select(col_name).filter(df[col_name] < limit).count()\n",
    "print(\n",
    "    f\"Count of instances with ({col_name} {'>' if above else '<'} {limit}) - {count}\"\n",
    ")\n",
    "print(\n",
    "    f\"Percentage of instances with ({col_name} {'>' if above else '<'} {limit}) - {(count * 100.0/ total_rows):.4f}%\"\n",
    ")\n",
    "# clip values above 4.0 to 4.0"
   ]
  },
  {
   "cell_type": "code",
   "execution_count": 7,
   "metadata": {},
   "outputs": [
    {
     "name": "stderr",
     "output_type": "stream",
     "text": [
      "[Stage 10:====================================================> (233 + 7) / 240]\r"
     ]
    },
    {
     "name": "stdout",
     "output_type": "stream",
     "text": [
      "Count of instances with (jet 1 pT > 4.0) - 5647\n",
      "Percentage of instances with (jet 1 pT > 4.0) - 0.0513%\n"
     ]
    },
    {
     "name": "stderr",
     "output_type": "stream",
     "text": [
      "                                                                                \r"
     ]
    }
   ],
   "source": [
    "col_name = \"jet 1 pT\"\n",
    "limit = 4.0\n",
    "above = True\n",
    "count = 0\n",
    "if above:\n",
    "    count += df.select(col_name).filter(df[col_name] > limit).count()\n",
    "else:\n",
    "    count += df.select(col_name).filter(df[col_name] < limit).count()\n",
    "print(\n",
    "    f\"Count of instances with ({col_name} {'>' if above else '<'} {limit}) - {count}\"\n",
    ")\n",
    "print(\n",
    "    f\"Percentage of instances with ({col_name} {'>' if above else '<'} {limit}) - {(count * 100.0/ total_rows):.4f}%\"\n",
    ")\n",
    "# clip values above 4.0 to 4.0"
   ]
  },
  {
   "cell_type": "code",
   "execution_count": 8,
   "metadata": {},
   "outputs": [
    {
     "name": "stderr",
     "output_type": "stream",
     "text": [
      "                                                                                \r"
     ]
    },
    {
     "name": "stdout",
     "output_type": "stream",
     "text": [
      "+------------------+\n",
      "|       jet 1 b-tag|\n",
      "+------------------+\n",
      "|               0.0|\n",
      "|1.0865380764007568|\n",
      "|2.1730761528015137|\n",
      "+------------------+\n",
      "\n"
     ]
    }
   ],
   "source": [
    "df.select(\"jet 1 b-tag\").distinct().show()\n",
    "# categorical variable, replace with 0, 1, 2 respectively"
   ]
  },
  {
   "cell_type": "code",
   "execution_count": 9,
   "metadata": {},
   "outputs": [
    {
     "name": "stderr",
     "output_type": "stream",
     "text": [
      "[Stage 16:=====================================================>(236 + 4) / 240]\r"
     ]
    },
    {
     "name": "stdout",
     "output_type": "stream",
     "text": [
      "Count of instances with (jet 2 pT > 4.0) - 13698\n",
      "Percentage of instances with (jet 2 pT > 4.0) - 0.1245%\n"
     ]
    },
    {
     "name": "stderr",
     "output_type": "stream",
     "text": [
      "                                                                                \r"
     ]
    }
   ],
   "source": [
    "col_name = \"jet 2 pT\"\n",
    "limit = 4.0\n",
    "above = True\n",
    "count = 0\n",
    "if above:\n",
    "    count += df.select(col_name).filter(df[col_name] > limit).count()\n",
    "else:\n",
    "    count += df.select(col_name).filter(df[col_name] < limit).count()\n",
    "print(\n",
    "    f\"Count of instances with ({col_name} {'>' if above else '<'} {limit}) - {count}\"\n",
    ")\n",
    "print(\n",
    "    f\"Percentage of instances with ({col_name} {'>' if above else '<'} {limit}) - {(count * 100.0/ total_rows):.4f}%\"\n",
    ")\n",
    "# clip values above 4.0 to 4.0"
   ]
  },
  {
   "cell_type": "code",
   "execution_count": 10,
   "metadata": {},
   "outputs": [
    {
     "name": "stderr",
     "output_type": "stream",
     "text": [
      "[Stage 19:====================================================> (232 + 8) / 240]\r"
     ]
    },
    {
     "name": "stdout",
     "output_type": "stream",
     "text": [
      "+------------------+\n",
      "|       jet 2 b-tag|\n",
      "+------------------+\n",
      "|1.1074360609054565|\n",
      "|               0.0|\n",
      "| 2.214872121810913|\n",
      "+------------------+\n",
      "\n"
     ]
    },
    {
     "name": "stderr",
     "output_type": "stream",
     "text": [
      "                                                                                \r"
     ]
    }
   ],
   "source": [
    "df.select(\"jet 2 b-tag\").distinct().show()\n",
    "# categorical variable, replace with 0, 1, 2 respectively"
   ]
  },
  {
   "cell_type": "code",
   "execution_count": 11,
   "metadata": {},
   "outputs": [
    {
     "name": "stderr",
     "output_type": "stream",
     "text": [
      "[Stage 22:=====================================================>(236 + 4) / 240]\r"
     ]
    },
    {
     "name": "stdout",
     "output_type": "stream",
     "text": [
      "Count of instances with (jet 3 pT > 4.0) - 9826\n",
      "Percentage of instances with (jet 3 pT > 4.0) - 0.0893%\n"
     ]
    },
    {
     "name": "stderr",
     "output_type": "stream",
     "text": [
      "                                                                                \r"
     ]
    }
   ],
   "source": [
    "col_name = \"jet 3 pT\"\n",
    "limit = 4.0\n",
    "above = True\n",
    "count = 0\n",
    "if above:\n",
    "    count += df.select(col_name).filter(df[col_name] > limit).count()\n",
    "else:\n",
    "    count += df.select(col_name).filter(df[col_name] < limit).count()\n",
    "print(\n",
    "    f\"Count of instances with ({col_name} {'>' if above else '<'} {limit}) - {count}\"\n",
    ")\n",
    "print(\n",
    "    f\"Percentage of instances with ({col_name} {'>' if above else '<'} {limit}) - {(count * 100.0/ total_rows):.4f}%\"\n",
    ")\n",
    "# clip values above 4.0 to 4.0"
   ]
  },
  {
   "cell_type": "code",
   "execution_count": 12,
   "metadata": {},
   "outputs": [
    {
     "name": "stderr",
     "output_type": "stream",
     "text": [
      "[Stage 25:=====================================================>(236 + 4) / 240]\r"
     ]
    },
    {
     "name": "stdout",
     "output_type": "stream",
     "text": [
      "+------------------+\n",
      "|       jet 3 b-tag|\n",
      "+------------------+\n",
      "| 2.548224449157715|\n",
      "|               0.0|\n",
      "|1.2741122245788574|\n",
      "+------------------+\n",
      "\n"
     ]
    },
    {
     "name": "stderr",
     "output_type": "stream",
     "text": [
      "                                                                                \r"
     ]
    }
   ],
   "source": [
    "df.select(\"jet 3 b-tag\").distinct().show()\n",
    "# categorical variable, replace with 0, 1, 2 respectively"
   ]
  },
  {
   "cell_type": "code",
   "execution_count": 13,
   "metadata": {},
   "outputs": [
    {
     "name": "stderr",
     "output_type": "stream",
     "text": [
      "[Stage 28:====================================================> (235 + 5) / 240]\r"
     ]
    },
    {
     "name": "stdout",
     "output_type": "stream",
     "text": [
      "Count of instances with (jet 4 pT > 4.0) - 9646\n",
      "Percentage of instances with (jet 4 pT > 4.0) - 0.0877%\n"
     ]
    },
    {
     "name": "stderr",
     "output_type": "stream",
     "text": [
      "                                                                                \r"
     ]
    }
   ],
   "source": [
    "col_name = \"jet 4 pT\"\n",
    "limit = 4.0\n",
    "above = True\n",
    "count = 0\n",
    "if above:\n",
    "    count += df.select(col_name).filter(df[col_name] > limit).count()\n",
    "else:\n",
    "    count += df.select(col_name).filter(df[col_name] < limit).count()\n",
    "print(\n",
    "    f\"Count of instances with ({col_name} {'>' if above else '<'} {limit}) - {count}\"\n",
    ")\n",
    "print(\n",
    "    f\"Percentage of instances with ({col_name} {'>' if above else '<'} {limit}) - {(count * 100.0/ total_rows):.4f}%\"\n",
    ")\n",
    "# clip values above 4.0 to 4.0"
   ]
  },
  {
   "cell_type": "code",
   "execution_count": 14,
   "metadata": {},
   "outputs": [
    {
     "name": "stderr",
     "output_type": "stream",
     "text": [
      "[Stage 31:====================================================> (235 + 5) / 240]\r"
     ]
    },
    {
     "name": "stdout",
     "output_type": "stream",
     "text": [
      "+------------------+\n",
      "|       jet 4 b-tag|\n",
      "+------------------+\n",
      "|               0.0|\n",
      "| 3.101961374282837|\n",
      "|1.5509806871414185|\n",
      "+------------------+\n",
      "\n"
     ]
    },
    {
     "name": "stderr",
     "output_type": "stream",
     "text": [
      "                                                                                \r"
     ]
    }
   ],
   "source": [
    "df.select(\"jet 4 b-tag\").distinct().show()\n",
    "# categorical variable, replace with 0, 1, 2 respectively"
   ]
  },
  {
   "cell_type": "code",
   "execution_count": 15,
   "metadata": {},
   "outputs": [
    {
     "name": "stderr",
     "output_type": "stream",
     "text": [
      "[Stage 34:====================================================> (235 + 5) / 240]\r"
     ]
    },
    {
     "name": "stdout",
     "output_type": "stream",
     "text": [
      "Count of instances with (m_jj > 5.0) - 54885\n",
      "Percentage of instances with (m_jj > 5.0) - 0.4990%\n"
     ]
    },
    {
     "name": "stderr",
     "output_type": "stream",
     "text": [
      "                                                                                \r"
     ]
    }
   ],
   "source": [
    "col_name = \"m_jj\"\n",
    "limit = 5.0\n",
    "above = True\n",
    "count = 0\n",
    "if above:\n",
    "    count += df.select(col_name).filter(df[col_name] > limit).count()\n",
    "else:\n",
    "    count += df.select(col_name).filter(df[col_name] < limit).count()\n",
    "print(\n",
    "    f\"Count of instances with ({col_name} {'>' if above else '<'} {limit}) - {count}\"\n",
    ")\n",
    "print(\n",
    "    f\"Percentage of instances with ({col_name} {'>' if above else '<'} {limit}) - {(count * 100.0/ total_rows):.4f}%\"\n",
    ")\n",
    "# clip values above 5.0 to 5.0"
   ]
  },
  {
   "cell_type": "code",
   "execution_count": 16,
   "metadata": {},
   "outputs": [
    {
     "name": "stderr",
     "output_type": "stream",
     "text": [
      "[Stage 37:====================================================> (234 + 6) / 240]\r"
     ]
    },
    {
     "name": "stdout",
     "output_type": "stream",
     "text": [
      "Count of instances with (m_jjj > 4.0) - 19962\n",
      "Percentage of instances with (m_jjj > 4.0) - 0.1815%\n"
     ]
    },
    {
     "name": "stderr",
     "output_type": "stream",
     "text": [
      "                                                                                \r"
     ]
    }
   ],
   "source": [
    "col_name = \"m_jjj\"\n",
    "limit = 4.0\n",
    "above = True\n",
    "count = 0\n",
    "if above:\n",
    "    count += df.select(col_name).filter(df[col_name] > limit).count()\n",
    "else:\n",
    "    count += df.select(col_name).filter(df[col_name] < limit).count()\n",
    "print(\n",
    "    f\"Count of instances with ({col_name} {'>' if above else '<'} {limit}) - {count}\"\n",
    ")\n",
    "print(\n",
    "    f\"Percentage of instances with ({col_name} {'>' if above else '<'} {limit}) - {(count * 100.0/ total_rows):.4f}%\"\n",
    ")\n",
    "# clip values above 4.0 to 4.0"
   ]
  },
  {
   "cell_type": "code",
   "execution_count": 17,
   "metadata": {},
   "outputs": [
    {
     "name": "stderr",
     "output_type": "stream",
     "text": [
      "[Stage 40:====================================================> (233 + 7) / 240]\r"
     ]
    },
    {
     "name": "stdout",
     "output_type": "stream",
     "text": [
      "Count of instances with (m_lv > 2.0) - 48797\n",
      "Percentage of instances with (m_lv > 2.0) - 0.4436%\n"
     ]
    },
    {
     "name": "stderr",
     "output_type": "stream",
     "text": [
      "                                                                                \r"
     ]
    }
   ],
   "source": [
    "col_name = \"m_lv\"\n",
    "limit = 2.0\n",
    "above = True\n",
    "count = 0\n",
    "if above:\n",
    "    count += df.select(col_name).filter(df[col_name] > limit).count()\n",
    "else:\n",
    "    count += df.select(col_name).filter(df[col_name] < limit).count()\n",
    "print(\n",
    "    f\"Count of instances with ({col_name} {'>' if above else '<'} {limit}) - {count}\"\n",
    ")\n",
    "print(\n",
    "    f\"Percentage of instances with ({col_name} {'>' if above else '<'} {limit}) - {(count * 100.0/ total_rows):.4f}%\"\n",
    ")\n",
    "# clip values above 2.0 to 2.0"
   ]
  },
  {
   "cell_type": "code",
   "execution_count": 18,
   "metadata": {},
   "outputs": [
    {
     "name": "stderr",
     "output_type": "stream",
     "text": [
      "[Stage 43:====================================================> (235 + 5) / 240]\r"
     ]
    },
    {
     "name": "stdout",
     "output_type": "stream",
     "text": [
      "Count of instances with (m_jlv > 4.0) - 10752\n",
      "Percentage of instances with (m_jlv > 4.0) - 0.0977%\n"
     ]
    },
    {
     "name": "stderr",
     "output_type": "stream",
     "text": [
      "                                                                                \r"
     ]
    }
   ],
   "source": [
    "col_name = \"m_jlv\"\n",
    "limit = 4.0\n",
    "above = True\n",
    "count = 0\n",
    "if above:\n",
    "    count += df.select(col_name).filter(df[col_name] > limit).count()\n",
    "else:\n",
    "    count += df.select(col_name).filter(df[col_name] < limit).count()\n",
    "print(\n",
    "    f\"Count of instances with ({col_name} {'>' if above else '<'} {limit}) - {count}\"\n",
    ")\n",
    "print(\n",
    "    f\"Percentage of instances with ({col_name} {'>' if above else '<'} {limit}) - {(count * 100.0/ total_rows):.4f}%\"\n",
    ")\n",
    "# clip values above 4.0 to 4.0"
   ]
  },
  {
   "cell_type": "code",
   "execution_count": 19,
   "metadata": {},
   "outputs": [
    {
     "name": "stderr",
     "output_type": "stream",
     "text": [
      "[Stage 46:====================================================> (235 + 5) / 240]\r"
     ]
    },
    {
     "name": "stdout",
     "output_type": "stream",
     "text": [
      "Count of instances with (m_bb > 4.0) - 23935\n",
      "Percentage of instances with (m_bb > 4.0) - 0.2176%\n"
     ]
    },
    {
     "name": "stderr",
     "output_type": "stream",
     "text": [
      "                                                                                \r"
     ]
    }
   ],
   "source": [
    "col_name = \"m_bb\"\n",
    "limit = 4.0\n",
    "above = True\n",
    "count = 0\n",
    "if above:\n",
    "    count += df.select(col_name).filter(df[col_name] > limit).count()\n",
    "else:\n",
    "    count += df.select(col_name).filter(df[col_name] < limit).count()\n",
    "print(\n",
    "    f\"Count of instances with ({col_name} {'>' if above else '<'} {limit}) - {count}\"\n",
    ")\n",
    "print(\n",
    "    f\"Percentage of instances with ({col_name} {'>' if above else '<'} {limit}) - {(count * 100.0/ total_rows):.4f}%\"\n",
    ")\n",
    "# clip values above 4.0 to 4.0"
   ]
  },
  {
   "cell_type": "code",
   "execution_count": 20,
   "metadata": {},
   "outputs": [
    {
     "name": "stderr",
     "output_type": "stream",
     "text": [
      "[Stage 49:====================================================> (234 + 6) / 240]\r"
     ]
    },
    {
     "name": "stdout",
     "output_type": "stream",
     "text": [
      "Count of instances with (m_wbb > 3.5) - 14441\n",
      "Percentage of instances with (m_wbb > 3.5) - 0.1313%\n"
     ]
    },
    {
     "name": "stderr",
     "output_type": "stream",
     "text": [
      "                                                                                \r"
     ]
    }
   ],
   "source": [
    "col_name = \"m_wbb\"\n",
    "limit = 3.5\n",
    "above = True\n",
    "count = 0\n",
    "if above:\n",
    "    count += df.select(col_name).filter(df[col_name] > limit).count()\n",
    "else:\n",
    "    count += df.select(col_name).filter(df[col_name] < limit).count()\n",
    "print(\n",
    "    f\"Count of instances with ({col_name} {'>' if above else '<'} {limit}) - {count}\"\n",
    ")\n",
    "print(\n",
    "    f\"Percentage of instances with ({col_name} {'>' if above else '<'} {limit}) - {(count * 100.0/ total_rows):.4f}%\"\n",
    ")\n",
    "# clip values above 3.5 to 3.5"
   ]
  },
  {
   "cell_type": "code",
   "execution_count": 21,
   "metadata": {},
   "outputs": [
    {
     "name": "stderr",
     "output_type": "stream",
     "text": [
      "[Stage 52:=====================================================>(237 + 3) / 240]\r"
     ]
    },
    {
     "name": "stdout",
     "output_type": "stream",
     "text": [
      "Count of instances with (m_wwbb > 3.0) - 14854\n",
      "Percentage of instances with (m_wwbb > 3.0) - 0.1350%\n"
     ]
    },
    {
     "name": "stderr",
     "output_type": "stream",
     "text": [
      "                                                                                \r"
     ]
    }
   ],
   "source": [
    "col_name = \"m_wwbb\"\n",
    "limit = 3.0\n",
    "above = True\n",
    "count = 0\n",
    "if above:\n",
    "    count += df.select(col_name).filter(df[col_name] > limit).count()\n",
    "else:\n",
    "    count += df.select(col_name).filter(df[col_name] < limit).count()\n",
    "print(\n",
    "    f\"Count of instances with ({col_name} {'>' if above else '<'} {limit}) - {count}\"\n",
    ")\n",
    "print(\n",
    "    f\"Percentage of instances with ({col_name} {'>' if above else '<'} {limit}) - {(count * 100.0/ total_rows):.4f}%\"\n",
    ")\n",
    "# clip values above 3.0 to 3.0"
   ]
  }
 ],
 "metadata": {
  "kernelspec": {
   "display_name": "base",
   "language": "python",
   "name": "python3"
  },
  "language_info": {
   "codemirror_mode": {
    "name": "ipython",
    "version": 3
   },
   "file_extension": ".py",
   "mimetype": "text/x-python",
   "name": "python",
   "nbconvert_exporter": "python",
   "pygments_lexer": "ipython3",
   "version": "3.11.9"
  }
 },
 "nbformat": 4,
 "nbformat_minor": 2
}

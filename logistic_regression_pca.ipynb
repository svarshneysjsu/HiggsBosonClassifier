{
 "cells": [
  {
   "cell_type": "markdown",
   "metadata": {},
   "source": [
    "# Logistic Regression for Higgs Boson Detection"
   ]
  },
  {
   "cell_type": "markdown",
   "metadata": {},
   "source": [
    "***Hyperparameter Tuning gave the same model as with default parameters. So turn off hyperparameter tuning.***"
   ]
  },
  {
   "cell_type": "markdown",
   "metadata": {},
   "source": [
    "## Import packages"
   ]
  },
  {
   "cell_type": "code",
   "execution_count": 1,
   "metadata": {},
   "outputs": [],
   "source": [
    "from pyspark.ml.feature import VectorAssembler, StandardScaler, PCA\n",
    "from pyspark.ml.tuning import ParamGridBuilder, CrossValidator\n",
    "from pyspark.ml.classification import LogisticRegression\n",
    "from pyspark.ml.pipeline import PipelineModel, Pipeline\n",
    "from pyspark.ml.evaluation import (\n",
    "    MulticlassClassificationEvaluator,\n",
    "    BinaryClassificationEvaluator,\n",
    ")\n",
    "from pyspark.sql.functions import col, expr, broadcast\n",
    "from pyspark.ml.functions import vector_to_array\n",
    "from pyspark.sql import SparkSession\n",
    "from pyspark import SparkContext\n",
    "import matplotlib.pyplot as plt\n",
    "import seaborn as sns\n",
    "import numpy as np\n",
    "import os"
   ]
  },
  {
   "cell_type": "markdown",
   "metadata": {},
   "source": [
    "## Create SparkContext and SparkSession"
   ]
  },
  {
   "cell_type": "code",
   "execution_count": 2,
   "metadata": {},
   "outputs": [
    {
     "name": "stderr",
     "output_type": "stream",
     "text": [
      "Setting default log level to \"WARN\".\n",
      "To adjust logging level use sc.setLogLevel(newLevel). For SparkR, use setLogLevel(newLevel).\n",
      "24/05/14 06:43:18 WARN NativeCodeLoader: Unable to load native-hadoop library for your platform... using builtin-java classes where applicable\n",
      "24/05/14 06:43:18 WARN Utils: Service 'SparkUI' could not bind on port 4040. Attempting port 4041.\n"
     ]
    }
   ],
   "source": [
    "spark = SparkSession.builder.config(\"spark.driver.memory\", \"12g\").getOrCreate()\n",
    "sc = SparkContext.getOrCreate()"
   ]
  },
  {
   "cell_type": "code",
   "execution_count": 3,
   "metadata": {},
   "outputs": [],
   "source": [
    "CLEAN_DATA_FOLDER = \"clean_data\"\n",
    "MODELS_FOLDER = \"models\"\n",
    "TRAIN = False\n",
    "TUNE = True\n",
    "SCHEMA = [\n",
    "    \"signal\",\n",
    "    \"lepton pT\",\n",
    "    \"lepton eta\",\n",
    "    \"lepton phi\",\n",
    "    \"missing energy magnitude\",\n",
    "    \"missing energy phi\",\n",
    "    \"jet 1 pt\",\n",
    "    \"jet 1 eta\",\n",
    "    \"jet 1 phi\",\n",
    "    \"jet 1 b-tag\",\n",
    "    \"jet 2 pt\",\n",
    "    \"jet 2 eta\",\n",
    "    \"jet 2 phi\",\n",
    "    \"jet 2 b-tag\",\n",
    "    \"jet 3 pt\",\n",
    "    \"jet 3 eta\",\n",
    "    \"jet 3 phi\",\n",
    "    \"jet 3 b-tag\",\n",
    "    \"jet 4 pt\",\n",
    "    \"jet 4 eta\",\n",
    "    \"jet 4 phi\",\n",
    "    \"jet 4 b-tag\",\n",
    "    \"m_jj\",\n",
    "    \"m_jjj\",\n",
    "    \"m_lv\",\n",
    "    \"m_jlv\",\n",
    "    \"m_bb\",\n",
    "    \"m_wbb\",\n",
    "    \"m_wwbb\",\n",
    "]"
   ]
  },
  {
   "cell_type": "markdown",
   "metadata": {},
   "source": [
    "## Read Train CSV, transform and load to Dataframe"
   ]
  },
  {
   "cell_type": "code",
   "execution_count": 4,
   "metadata": {},
   "outputs": [
    {
     "name": "stderr",
     "output_type": "stream",
     "text": [
      "24/05/14 06:43:20 WARN SparkStringUtils: Truncated the string representation of a plan since it was too large. This behavior can be adjusted by setting 'spark.sql.debug.maxToStringFields'.\n"
     ]
    }
   ],
   "source": [
    "rdd = sc.textFile(os.path.join(CLEAN_DATA_FOLDER, \"train.csv\"))\n",
    "rdd = rdd.map(\n",
    "    lambda row: [\n",
    "        int(float(v)) if i == 0 else float(v) for i, v in enumerate(row.split(\",\"))\n",
    "    ]\n",
    ")\n",
    "train_df = rdd.toDF(schema=SCHEMA).cache()"
   ]
  },
  {
   "cell_type": "markdown",
   "metadata": {},
   "source": [
    "## Build Logistic Regression Model\n",
    "\n",
    "if TRAIN is True, this will train a Logistic Regression Pipeline Model using train csv\n",
    "\n",
    "if TRAIN is False, this will load a trained Logistic Regression Pipeline Model from `models`"
   ]
  },
  {
   "cell_type": "code",
   "execution_count": 5,
   "metadata": {},
   "outputs": [],
   "source": [
    "model = None\n",
    "if TRAIN:\n",
    "    vector_assembler = VectorAssembler(\n",
    "        inputCols=[c for c in SCHEMA if c != \"signal\"], outputCol=\"features\"\n",
    "    )\n",
    "    scaler = StandardScaler(inputCol=\"features\", outputCol=\"scaled_features\")\n",
    "    pca = PCA(k=28, inputCol=\"scaled_features\", outputCol=\"pca_features\")\n",
    "    classifier = LogisticRegression(\n",
    "        featuresCol=\"pca_features\", labelCol=\"signal\", standardization=False\n",
    "    )\n",
    "    pipeline = Pipeline(stages=[vector_assembler, scaler, pca, classifier])\n",
    "    if TUNE:\n",
    "        paramGrid = ParamGridBuilder().addGrid(pca.k, [28, 21, 14, 7]).build()\n",
    "        evaluator = BinaryClassificationEvaluator(\n",
    "            labelCol=\"signal\",\n",
    "            rawPredictionCol=\"rawPrediction\",\n",
    "            metricName=\"areaUnderROC\",\n",
    "        )\n",
    "        crossVal = CrossValidator(\n",
    "            estimator=pipeline,\n",
    "            estimatorParamMaps=paramGrid,\n",
    "            evaluator=evaluator,\n",
    "            numFolds=5,\n",
    "            seed=42,\n",
    "        )\n",
    "        cvModel = crossVal.fit(train_df)\n",
    "        model = cvModel.bestModel\n",
    "        model.save(os.path.join(MODELS_FOLDER, \"logisticRegressionPCATuned\"))\n",
    "    else:\n",
    "        model = pipeline.fit(train_df)\n",
    "        model.save(os.path.join(MODELS_FOLDER, \"logisticRegressionPCA\"))\n",
    "else:\n",
    "    if TUNE:\n",
    "        model = PipelineModel.load(\n",
    "            os.path.join(MODELS_FOLDER, \"logisticRegressionPCATuned\")\n",
    "        )\n",
    "    else:\n",
    "        model = PipelineModel.load(os.path.join(MODELS_FOLDER, \"logisticRegressionPCA\"))"
   ]
  },
  {
   "cell_type": "code",
   "execution_count": 6,
   "metadata": {},
   "outputs": [
    {
     "name": "stdout",
     "output_type": "stream",
     "text": [
      "Model Parameters - k[28] regParam[0.0] elasticNetParam[0.0]\n"
     ]
    }
   ],
   "source": [
    "print(\n",
    "    f\"Model Parameters - k[{model.stages[2].getK()}] regParam[{model.stages[3].getRegParam()}] elasticNetParam[{model.stages[3].getElasticNetParam()}]\"\n",
    ")"
   ]
  },
  {
   "cell_type": "markdown",
   "metadata": {},
   "source": [
    "## Build Binary Classification Evaluators and Visualizers"
   ]
  },
  {
   "cell_type": "code",
   "execution_count": 7,
   "metadata": {},
   "outputs": [],
   "source": [
    "evaluators = {\n",
    "    \"accuracy\": MulticlassClassificationEvaluator(\n",
    "        labelCol=\"signal\", predictionCol=\"prediction\", metricName=\"accuracy\"\n",
    "    ),\n",
    "    \"precision\": MulticlassClassificationEvaluator(\n",
    "        labelCol=\"signal\", predictionCol=\"prediction\", metricName=\"weightedPrecision\"\n",
    "    ),\n",
    "    \"recall\": MulticlassClassificationEvaluator(\n",
    "        labelCol=\"signal\", predictionCol=\"prediction\", metricName=\"weightedRecall\"\n",
    "    ),\n",
    "    \"f1\": MulticlassClassificationEvaluator(\n",
    "        labelCol=\"signal\", predictionCol=\"prediction\", metricName=\"f1\"\n",
    "    ),\n",
    "    \"areaUnderROC\": BinaryClassificationEvaluator(\n",
    "        labelCol=\"signal\", rawPredictionCol=\"rawPrediction\", metricName=\"areaUnderROC\"\n",
    "    ),\n",
    "    \"areaUnderPR\": BinaryClassificationEvaluator(\n",
    "        labelCol=\"signal\", rawPredictionCol=\"rawPrediction\", metricName=\"areaUnderPR\"\n",
    "    ),\n",
    "}\n",
    "metrics = []"
   ]
  },
  {
   "cell_type": "code",
   "execution_count": 8,
   "metadata": {},
   "outputs": [],
   "source": [
    "def evaluate(predictions, split):\n",
    "    accuracy = evaluators[\"accuracy\"].evaluate(predictions)\n",
    "    precision = evaluators[\"precision\"].evaluate(predictions)\n",
    "    recall = evaluators[\"recall\"].evaluate(predictions)\n",
    "    f1 = evaluators[\"f1\"].evaluate(predictions)\n",
    "    auc_roc = evaluators[\"areaUnderROC\"].evaluate(predictions)\n",
    "    auc_pr = evaluators[\"areaUnderPR\"].evaluate(predictions)\n",
    "    return {\n",
    "        \"Split\": split,\n",
    "        \"Accuracy\": accuracy,\n",
    "        \"Precision\": precision,\n",
    "        \"Recall\": recall,\n",
    "        \"F1\": f1,\n",
    "        \"AreaUnderROC\": auc_roc,\n",
    "        \"AreaUnderPR\": auc_pr,\n",
    "    }"
   ]
  },
  {
   "cell_type": "code",
   "execution_count": 9,
   "metadata": {},
   "outputs": [],
   "source": [
    "def plot_confusion_matrix(predictions, split, ax):\n",
    "    TP = predictions.filter(\n",
    "        (predictions.prediction == 1) & (predictions.signal == 1)\n",
    "    ).count()\n",
    "    TN = predictions.filter(\n",
    "        (predictions.prediction == 0) & (predictions.signal == 0)\n",
    "    ).count()\n",
    "    FP = predictions.filter(\n",
    "        (predictions.prediction == 1) & (predictions.signal == 0)\n",
    "    ).count()\n",
    "    FN = predictions.filter(\n",
    "        (predictions.prediction == 0) & (predictions.signal == 1)\n",
    "    ).count()\n",
    "    confusion_matrix = [[TP, FP], [FN, TN]]\n",
    "    _ = sns.heatmap(\n",
    "        confusion_matrix,\n",
    "        annot=True,\n",
    "        fmt=\"d\",\n",
    "        cmap=\"Blues\",\n",
    "        square=True,\n",
    "        cbar=False,\n",
    "        ax=ax,\n",
    "    )\n",
    "    ax.set_title(f\"Confusion Matrix for {split}\")\n",
    "    ax.set_ylabel(\"True Label\")\n",
    "    ax.set_xlabel(\"Predicted Label\")"
   ]
  },
  {
   "cell_type": "code",
   "execution_count": 10,
   "metadata": {},
   "outputs": [],
   "source": [
    "def plot_precision_recall_curve(predictions, split, ax):\n",
    "    slim_preds = predictions.select([\"signal\", \"probability\", \"prediction\"]).withColumn(\n",
    "        \"probability_array\", vector_to_array(\"probability\")\n",
    "    )\n",
    "    # Create a DataFrame of threshold values\n",
    "    thresholds = np.linspace(0, 1, num=100)\n",
    "    threshold_df = spark.createDataFrame(\n",
    "        [(float(t),) for t in thresholds], [\"threshold\"]\n",
    "    )\n",
    "    cross_joined = slim_preds.crossJoin(broadcast(threshold_df))\n",
    "    # Define the conditions for TP, FP, TN, FN\n",
    "    metrics_df = (\n",
    "        cross_joined.withColumn(\n",
    "            \"Metric\",\n",
    "            expr(\n",
    "                \"CASE \"\n",
    "                + \" WHEN probability_array[1] >= threshold AND signal = 1 THEN 'TP' \"\n",
    "                + \" WHEN probability_array[1] >= threshold AND signal = 0 THEN 'FP' \"\n",
    "                + \" WHEN probability_array[1] < threshold AND signal = 1 THEN 'FN' \"\n",
    "                + \" ELSE 'TN' END\"\n",
    "            ),\n",
    "        )\n",
    "        .groupBy(\"threshold\")\n",
    "        .pivot(\"Metric\")\n",
    "        .count()\n",
    "    )\n",
    "    # Calculate precision and recall\n",
    "    result_df = metrics_df.withColumn(\n",
    "        \"Precision\", col(\"TP\") / (col(\"TP\") + col(\"FP\"))\n",
    "    ).withColumn(\"Recall\", col(\"TP\") / (col(\"TP\") + col(\"FN\")))\n",
    "    # Collect results for plotting if necessary\n",
    "    result_data = (\n",
    "        result_df.select(\"threshold\", \"Precision\", \"Recall\")\n",
    "        .orderBy(\"threshold\")\n",
    "        .collect()\n",
    "    )\n",
    "    # Plotting\n",
    "    precisions = [\n",
    "        row[\"Precision\"] for row in result_data if row[\"Precision\"] is not None\n",
    "    ]\n",
    "    recalls = [row[\"Recall\"] for row in result_data if row[\"Recall\"] is not None]\n",
    "    # Filter out None values and ensure that both precision and recall are present\n",
    "    filtered_data = [\n",
    "        (row[\"Precision\"], row[\"Recall\"])\n",
    "        for row in result_data\n",
    "        if row[\"Precision\"] is not None and row[\"Recall\"] is not None\n",
    "    ]\n",
    "    # x[1] is the recall\n",
    "    sorted_data = sorted(filtered_data, key=lambda x: x[1])\n",
    "    # Unpack the sorted data\n",
    "    precisions, recalls = zip(*sorted_data)\n",
    "    average_precision = 0.0\n",
    "    for i in range(1, len(precisions)):\n",
    "        average_precision += (recalls[i] - recalls[i - 1]) * precisions[i]\n",
    "    # Plotting\n",
    "    ax.plot(recalls, precisions, color=\"tab:blue\", alpha=0.7)\n",
    "    ax.fill_between(recalls, precisions, color=\"tab:blue\", alpha=0.2)\n",
    "    ax.set_title(f\"Precision-Recall Curve for {split} (AP={average_precision:.4f})\")\n",
    "    ax.set_ylabel(\"Precision\")\n",
    "    ax.set_xlabel(\"Recall\")\n",
    "    ax.set_ylim([0.0, 1.0])\n",
    "    ax.set_xlim([0.0, 1.0])"
   ]
  },
  {
   "cell_type": "code",
   "execution_count": 11,
   "metadata": {},
   "outputs": [],
   "source": [
    "def plot_roc_curve(predictions, split, ax):\n",
    "    slim_preds = predictions.select([\"signal\", \"probability\", \"prediction\"]).withColumn(\n",
    "        \"probability_array\", vector_to_array(\"probability\")\n",
    "    )\n",
    "    # Create a DataFrame of threshold values\n",
    "    thresholds = np.linspace(0, 1, num=100)\n",
    "    threshold_df = spark.createDataFrame(\n",
    "        [(float(t),) for t in thresholds], [\"threshold\"]\n",
    "    )\n",
    "    cross_joined = slim_preds.crossJoin(broadcast(threshold_df))\n",
    "    # Define the conditions for TP, FP, TN, FN\n",
    "    metrics_df = (\n",
    "        cross_joined.withColumn(\n",
    "            \"Metric\",\n",
    "            expr(\n",
    "                \"CASE \"\n",
    "                + \" WHEN probability_array[1] >= threshold AND signal = 1 THEN 'TP' \"\n",
    "                + \" WHEN probability_array[1] >= threshold AND signal = 0 THEN 'FP' \"\n",
    "                + \" WHEN probability_array[1] < threshold AND signal = 1 THEN 'FN' \"\n",
    "                + \" ELSE 'TN' END\"\n",
    "            ),\n",
    "        )\n",
    "        .groupBy(\"threshold\")\n",
    "        .pivot(\"Metric\")\n",
    "        .count()\n",
    "    )\n",
    "    metrics_summed = metrics_df.groupBy(\"threshold\").sum(\"TP\", \"FP\", \"TN\", \"FN\")\n",
    "    # Calculate TPR and FPR\n",
    "    result_df = metrics_summed.withColumn(\n",
    "        \"FPR\", col(\"sum(FP)\") / (col(\"sum(FP)\") + col(\"sum(TN)\"))\n",
    "    ).withColumn(\"TPR\", col(\"sum(TP)\") / (col(\"sum(TP)\") + col(\"sum(FN)\")))\n",
    "    # Collect results to the driver\n",
    "    result_data = (\n",
    "        result_df.select(\"threshold\", \"FPR\", \"TPR\").orderBy(\"threshold\").collect()\n",
    "    )\n",
    "    # Filter out None values from the results\n",
    "    filtered_data = [\n",
    "        row for row in result_data if row[\"FPR\"] is not None and row[\"TPR\"] is not None\n",
    "    ]\n",
    "    # Sort by FPR\n",
    "    sorted_data = sorted(filtered_data, key=lambda x: x[\"FPR\"])\n",
    "    fprs = [row[\"FPR\"] for row in sorted_data]\n",
    "    tprs = [row[\"TPR\"] for row in sorted_data]\n",
    "    # Calculate AUC using the trapezoidal rule\n",
    "    roc_auc = np.trapz(tprs, fprs)\n",
    "    # Plotting\n",
    "    ax.plot(\n",
    "        fprs, tprs, color=\"tab:orange\", lw=2, label=f\"ROC Curve (Area={roc_auc:.4f})\"\n",
    "    )\n",
    "    ax.plot([0, 1], [0, 1], color=\"tab:blue\", lw=2, linestyle=\"--\")\n",
    "    ax.set_xlabel(\"False Positive Rate\")\n",
    "    ax.set_ylabel(\"True Positive Rate\")\n",
    "    ax.set_title(f\"Receiver Operating Characteristic for {split}\")\n",
    "    ax.legend(loc=\"lower right\")\n",
    "    ax.set_ylim([0.0, 1.0])\n",
    "    ax.set_xlim([0.0, 1.0])"
   ]
  },
  {
   "cell_type": "markdown",
   "metadata": {},
   "source": [
    "## Predictions and Metrics for Train split"
   ]
  },
  {
   "cell_type": "code",
   "execution_count": 12,
   "metadata": {},
   "outputs": [],
   "source": [
    "train_predictions = model.transform(train_df)"
   ]
  },
  {
   "cell_type": "code",
   "execution_count": 13,
   "metadata": {},
   "outputs": [
    {
     "name": "stderr",
     "output_type": "stream",
     "text": [
      "24/05/14 06:43:35 WARN GarbageCollectionMetrics: To enable non-built-in garbage collector(s) List(G1 Concurrent GC), users should configure it(them) to spark.eventLog.gcMetrics.youngGenerationGarbageCollectors or spark.eventLog.gcMetrics.oldGenerationGarbageCollectors\n",
      "24/05/14 06:43:37 WARN InstanceBuilder: Failed to load implementation from:dev.ludovic.netlib.blas.JNIBLAS\n",
      "24/05/14 06:43:37 WARN InstanceBuilder: Failed to load implementation from:dev.ludovic.netlib.blas.VectorBLAS\n",
      "                                                                                \r"
     ]
    }
   ],
   "source": [
    "metrics.append(evaluate(predictions=train_predictions, split=\"Train\"))"
   ]
  },
  {
   "cell_type": "code",
   "execution_count": 14,
   "metadata": {},
   "outputs": [],
   "source": [
    "# fig, ax = plt.subplots(1, 1, figsize=(8, 6))\n",
    "# plot_confusion_matrix(train_predictions, \"Train\", ax)"
   ]
  },
  {
   "cell_type": "code",
   "execution_count": 15,
   "metadata": {},
   "outputs": [],
   "source": [
    "# fig, ax = plt.subplots(1, 1, figsize=(6, 6))\n",
    "# plot_roc_curve(train_predictions, \"Train\", ax)"
   ]
  },
  {
   "cell_type": "code",
   "execution_count": 16,
   "metadata": {},
   "outputs": [],
   "source": [
    "# fig, ax = plt.subplots(1, 1, figsize=(6, 6))\n",
    "# plot_precision_recall_curve(train_predictions, \"Train\", ax)"
   ]
  },
  {
   "cell_type": "markdown",
   "metadata": {},
   "source": [
    "## Read Test CSV, transform and load to Dataframe"
   ]
  },
  {
   "cell_type": "code",
   "execution_count": 17,
   "metadata": {},
   "outputs": [],
   "source": [
    "rdd = sc.textFile(os.path.join(CLEAN_DATA_FOLDER, \"test.csv\"))\n",
    "rdd = rdd.map(\n",
    "    lambda row: [\n",
    "        int(float(v)) if i == 0 else float(v) for i, v in enumerate(row.split(\",\"))\n",
    "    ]\n",
    ")\n",
    "test_df = rdd.toDF(schema=SCHEMA)"
   ]
  },
  {
   "cell_type": "markdown",
   "metadata": {},
   "source": [
    "## Predictions and Metrics for Test split"
   ]
  },
  {
   "cell_type": "code",
   "execution_count": 18,
   "metadata": {},
   "outputs": [],
   "source": [
    "test_predictions = model.transform(test_df)"
   ]
  },
  {
   "cell_type": "code",
   "execution_count": 19,
   "metadata": {},
   "outputs": [
    {
     "name": "stderr",
     "output_type": "stream",
     "text": [
      "                                                                                \r"
     ]
    }
   ],
   "source": [
    "metrics.append(evaluate(predictions=test_predictions, split=\"Test\"))"
   ]
  },
  {
   "cell_type": "code",
   "execution_count": 20,
   "metadata": {},
   "outputs": [
    {
     "name": "stderr",
     "output_type": "stream",
     "text": [
      "                                                                                \r"
     ]
    },
    {
     "data": {
      "image/png": "[encoded data removed]",
      "text/plain": [
       "<Figure size 800x600 with 1 Axes>"
      ]
     },
     "metadata": {},
     "output_type": "display_data"
    }
   ],
   "source": [
    "fig, ax = plt.subplots(1, 1, figsize=(8, 6))\n",
    "plot_confusion_matrix(test_predictions, \"Test\", ax)"
   ]
  },
  {
   "cell_type": "code",
   "execution_count": 21,
   "metadata": {},
   "outputs": [
    {
     "name": "stderr",
     "output_type": "stream",
     "text": [
      "                                                                                \r"
     ]
    },
    {
     "data": {
      "image/png": "[encoded data removed]",
      "text/plain": [
       "<Figure size 600x600 with 1 Axes>"
      ]
     },
     "metadata": {},
     "output_type": "display_data"
    }
   ],
   "source": [
    "fig, ax = plt.subplots(1, 1, figsize=(6, 6))\n",
    "plot_roc_curve(test_predictions, \"Test\", ax)"
   ]
  },
  {
   "cell_type": "code",
   "execution_count": 22,
   "metadata": {},
   "outputs": [
    {
     "name": "stderr",
     "output_type": "stream",
     "text": [
      "                                                                                \r"
     ]
    },
    {
     "data": {
      "image/png": "[encoded data removed]",
      "text/plain": [
       "<Figure size 600x600 with 1 Axes>"
      ]
     },
     "metadata": {},
     "output_type": "display_data"
    }
   ],
   "source": [
    "fig, ax = plt.subplots(1, 1, figsize=(6, 6))\n",
    "plot_precision_recall_curve(test_predictions, \"Test\", ax)"
   ]
  },
  {
   "cell_type": "markdown",
   "metadata": {},
   "source": [
    "## Print Metrics"
   ]
  },
  {
   "cell_type": "code",
   "execution_count": 23,
   "metadata": {},
   "outputs": [
    {
     "name": "stdout",
     "output_type": "stream",
     "text": [
      "+------------------+------------------+------------------+------------------+------------------+------------------+-----+\n",
      "|Accuracy          |AreaUnderPR       |AreaUnderROC      |F1                |Precision         |Recall            |Split|\n",
      "+------------------+------------------+------------------+------------------+------------------+------------------+-----+\n",
      "|0.6422992929175241|0.6839996483182309|0.6849619311317156|0.6377845622334559|0.6428111428397976|0.6422992929175241|Train|\n",
      "|0.642082030642973 |0.6836772359184683|0.6846777553662003|0.637554431885401 |0.6425894402839998|0.642082030642973 |Test |\n",
      "+------------------+------------------+------------------+------------------+------------------+------------------+-----+\n",
      "\n"
     ]
    }
   ],
   "source": [
    "spark.createDataFrame(metrics).show(truncate=False)"
   ]
  }
 ],
 "metadata": {
  "kernelspec": {
   "display_name": "Python 3",
   "language": "python",
   "name": "python3"
  },
  "language_info": {
   "codemirror_mode": {
    "name": "ipython",
    "version": 3
   },
   "file_extension": ".py",
   "mimetype": "text/x-python",
   "name": "python",
   "nbconvert_exporter": "python",
   "pygments_lexer": "ipython3",
   "version": "3.11.6"
  }
 },
 "nbformat": 4,
 "nbformat_minor": 0
}
